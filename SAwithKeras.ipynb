{
 "cells": [
  {
   "cell_type": "code",
   "execution_count": 1,
   "metadata": {},
   "outputs": [
    {
     "name": "stdout",
     "output_type": "stream",
     "text": [
      "2.2.0-rc4\n",
      "2.3.0-tf\n"
     ]
    }
   ],
   "source": [
    "import tensorflow as tf\n",
    "from tensorflow import keras\n",
    "from keras import layers\n",
    "from keras.models import Sequential\n",
    "from keras.layers import Dense, Activation\n",
    "from matplotlib import pyplot as plt\n",
    "import numpy as np\n",
    "import pandas as pd\n",
    "print(tf.__version__)\n",
    "print(keras.__version__)"
   ]
  },
  {
   "cell_type": "code",
   "execution_count": 9,
   "metadata": {},
   "outputs": [],
   "source": [
    "NLPdata = pd.read_csv('nlpdata.csv')\n",
    "NLPdata = NLPdata.to_numpy()"
   ]
  },
  {
   "cell_type": "code",
   "execution_count": 10,
   "metadata": {},
   "outputs": [],
   "source": [
    "model = Sequential()\n",
    "model.add(Dense(20, activation='selu', input_dim=1)) \n",
    "model.add(Dense(28, activation='selu')) \n",
    "#model.add(Dense(10, activation='softmax'))\n",
    "model.compile(loss='mean_squared_error', optimizer='adagrad')"
   ]
  },
  {
   "cell_type": "code",
   "execution_count": 11,
   "metadata": {},
   "outputs": [],
   "source": [
    "import sklearn.model_selection as model_selection\n",
    "X_train, X_test, y_train, y_test = model_selection.train_test_split(NLPdata[:,0], NLPdata[:,2], train_size=0.75,test_size=0.25, random_state=101)\n",
    "#print (\"X_train: \", X_train)\n",
    "#print (\"y_train: \", y_train)\n",
    "#print (\"X_test: \", X_test)\n",
    "#print (\"y_test: \", y_test)"
   ]
  },
  {
   "cell_type": "code",
   "execution_count": 12,
   "metadata": {},
   "outputs": [],
   "source": [
    "X_train = X_train.reshape(-1,1)\n",
    "y_train = y_train.reshape(-1,1)\n",
    "X_test = X_test.reshape(-1,1)\n",
    "y_test = y_test.reshape(-1,1)\n",
    "\n",
    "#print (\"X_train: \", X_train)\n",
    "#print (\"y_train: \", y_train)\n",
    "#print (\"X_test: \", X_test)\n",
    "#print (\"y_test: \", y_test)"
   ]
  },
  {
   "cell_type": "code",
   "execution_count": 13,
   "metadata": {},
   "outputs": [
    {
     "name": "stdout",
     "output_type": "stream",
     "text": [
      "Epoch 1/50\n",
      "28/28 [==============================] - 0s 8ms/step - loss: 0.7830 - val_loss: 0.6623\n",
      "Epoch 2/50\n",
      "28/28 [==============================] - 0s 6ms/step - loss: 0.6430 - val_loss: 0.5772\n",
      "Epoch 3/50\n",
      "28/28 [==============================] - 0s 5ms/step - loss: 0.5703 - val_loss: 0.5214\n",
      "Epoch 4/50\n",
      "28/28 [==============================] - 0s 3ms/step - loss: 0.5192 - val_loss: 0.4793\n",
      "Epoch 5/50\n",
      "28/28 [==============================] - 0s 3ms/step - loss: 0.4796 - val_loss: 0.4460\n",
      "Epoch 6/50\n",
      "28/28 [==============================] - 0s 4ms/step - loss: 0.4475 - val_loss: 0.4180\n",
      "Epoch 7/50\n",
      "28/28 [==============================] - 0s 3ms/step - loss: 0.4202 - val_loss: 0.3942\n",
      "Epoch 8/50\n",
      "28/28 [==============================] - 0s 3ms/step - loss: 0.3968 - val_loss: 0.3733\n",
      "Epoch 9/50\n",
      "28/28 [==============================] - 0s 3ms/step - loss: 0.3761 - val_loss: 0.3546\n",
      "Epoch 10/50\n",
      "28/28 [==============================] - 0s 3ms/step - loss: 0.3576 - val_loss: 0.3381\n",
      "Epoch 11/50\n",
      "28/28 [==============================] - 0s 3ms/step - loss: 0.3411 - val_loss: 0.3228\n",
      "Epoch 12/50\n",
      "28/28 [==============================] - 0s 3ms/step - loss: 0.3258 - val_loss: 0.3092\n",
      "Epoch 13/50\n",
      "28/28 [==============================] - 0s 3ms/step - loss: 0.3120 - val_loss: 0.2963\n",
      "Epoch 14/50\n",
      "28/28 [==============================] - 0s 4ms/step - loss: 0.2990 - val_loss: 0.2843\n",
      "Epoch 15/50\n",
      "28/28 [==============================] - 0s 3ms/step - loss: 0.2869 - val_loss: 0.2734\n",
      "Epoch 16/50\n",
      "28/28 [==============================] - 0s 3ms/step - loss: 0.2758 - val_loss: 0.2632\n",
      "Epoch 17/50\n",
      "28/28 [==============================] - 0s 3ms/step - loss: 0.2654 - val_loss: 0.2534\n",
      "Epoch 18/50\n",
      "28/28 [==============================] - 0s 10ms/step - loss: 0.2554 - val_loss: 0.2441\n",
      "Epoch 19/50\n",
      "28/28 [==============================] - 0s 9ms/step - loss: 0.2460 - val_loss: 0.2354\n",
      "Epoch 20/50\n",
      "28/28 [==============================] - 0s 11ms/step - loss: 0.2371 - val_loss: 0.2272\n",
      "Epoch 21/50\n",
      "28/28 [==============================] - 0s 11ms/step - loss: 0.2288 - val_loss: 0.2194\n",
      "Epoch 22/50\n",
      "28/28 [==============================] - 0s 10ms/step - loss: 0.2208 - val_loss: 0.2120\n",
      "Epoch 23/50\n",
      "28/28 [==============================] - 0s 4ms/step - loss: 0.2132 - val_loss: 0.2049\n",
      "Epoch 24/50\n",
      "28/28 [==============================] - 0s 3ms/step - loss: 0.2060 - val_loss: 0.1981\n",
      "Epoch 25/50\n",
      "28/28 [==============================] - 0s 3ms/step - loss: 0.1990 - val_loss: 0.1917\n",
      "Epoch 26/50\n",
      "28/28 [==============================] - 0s 4ms/step - loss: 0.1924 - val_loss: 0.1856\n",
      "Epoch 27/50\n",
      "28/28 [==============================] - 0s 4ms/step - loss: 0.1861 - val_loss: 0.1797\n",
      "Epoch 28/50\n",
      "28/28 [==============================] - 0s 5ms/step - loss: 0.1801 - val_loss: 0.1741\n",
      "Epoch 29/50\n",
      "28/28 [==============================] - 0s 4ms/step - loss: 0.1743 - val_loss: 0.1687\n",
      "Epoch 30/50\n",
      "28/28 [==============================] - 0s 6ms/step - loss: 0.1688 - val_loss: 0.1636\n",
      "Epoch 31/50\n",
      "28/28 [==============================] - 0s 10ms/step - loss: 0.1635 - val_loss: 0.1587\n",
      "Epoch 32/50\n",
      "28/28 [==============================] - 0s 5ms/step - loss: 0.1585 - val_loss: 0.1541\n",
      "Epoch 33/50\n",
      "28/28 [==============================] - 0s 4ms/step - loss: 0.1538 - val_loss: 0.1496\n",
      "Epoch 34/50\n",
      "28/28 [==============================] - 0s 4ms/step - loss: 0.1491 - val_loss: 0.1453\n",
      "Epoch 35/50\n",
      "28/28 [==============================] - 0s 5ms/step - loss: 0.1447 - val_loss: 0.1412\n",
      "Epoch 36/50\n",
      "28/28 [==============================] - 0s 5ms/step - loss: 0.1405 - val_loss: 0.1372\n",
      "Epoch 37/50\n",
      "28/28 [==============================] - 0s 5ms/step - loss: 0.1364 - val_loss: 0.1335\n",
      "Epoch 38/50\n",
      "28/28 [==============================] - 0s 4ms/step - loss: 0.1326 - val_loss: 0.1299\n",
      "Epoch 39/50\n",
      "28/28 [==============================] - 0s 4ms/step - loss: 0.1288 - val_loss: 0.1265\n",
      "Epoch 40/50\n",
      "28/28 [==============================] - 0s 11ms/step - loss: 0.1253 - val_loss: 0.1232\n",
      "Epoch 41/50\n",
      "28/28 [==============================] - 0s 11ms/step - loss: 0.1220 - val_loss: 0.1201\n",
      "Epoch 42/50\n",
      "28/28 [==============================] - 0s 5ms/step - loss: 0.1188 - val_loss: 0.1171\n",
      "Epoch 43/50\n",
      "28/28 [==============================] - 0s 4ms/step - loss: 0.1157 - val_loss: 0.1143\n",
      "Epoch 44/50\n",
      "28/28 [==============================] - 0s 4ms/step - loss: 0.1127 - val_loss: 0.1116\n",
      "Epoch 45/50\n",
      "28/28 [==============================] - 0s 4ms/step - loss: 0.1099 - val_loss: 0.1090\n",
      "Epoch 46/50\n",
      "28/28 [==============================] - 0s 3ms/step - loss: 0.1072 - val_loss: 0.1065\n",
      "Epoch 47/50\n",
      "28/28 [==============================] - 0s 5ms/step - loss: 0.1047 - val_loss: 0.1042\n",
      "Epoch 48/50\n",
      "28/28 [==============================] - 0s 6ms/step - loss: 0.1022 - val_loss: 0.1019\n",
      "Epoch 49/50\n",
      "28/28 [==============================] - 0s 11ms/step - loss: 0.0999 - val_loss: 0.0998\n",
      "Epoch 50/50\n",
      "28/28 [==============================] - 0s 6ms/step - loss: 0.0977 - val_loss: 0.0977\n"
     ]
    },
    {
     "data": {
      "text/plain": [
       "<tensorflow.python.keras.callbacks.History at 0x145b0ad00>"
      ]
     },
     "execution_count": 13,
     "metadata": {},
     "output_type": "execute_result"
    }
   ],
   "source": [
    "model.fit(X_train, y_train, batch_size=10, epochs=50, verbose=1, validation_data=(X_test, y_test))"
   ]
  },
  {
   "cell_type": "code",
   "execution_count": 14,
   "metadata": {},
   "outputs": [
    {
     "name": "stdout",
     "output_type": "stream",
     "text": [
      "3/3 [==============================] - 0s 5ms/step - loss: 0.0977\n"
     ]
    },
    {
     "data": {
      "text/plain": [
       "0.09770457446575165"
      ]
     },
     "execution_count": 14,
     "metadata": {},
     "output_type": "execute_result"
    }
   ],
   "source": [
    "model.evaluate(X_test, y_test) #, batch_size=30"
   ]
  },
  {
   "cell_type": "code",
   "execution_count": 15,
   "metadata": {},
   "outputs": [
    {
     "name": "stdout",
     "output_type": "stream",
     "text": [
      "WARNING:tensorflow:From <ipython-input-15-1a1fae84b8b1>:3: Sequential.predict_classes (from tensorflow.python.keras.engine.sequential) is deprecated and will be removed after 2021-01-01.\n",
      "Instructions for updating:\n",
      "Please use instead:* `np.argmax(model.predict(x), axis=-1)`,   if your model does multi-class classification   (e.g. if it uses a `softmax` last-layer activation).* `(model.predict(x) > 0.5).astype(\"int32\")`,   if your model does binary classification   (e.g. if it uses a `sigmoid` last-layer activation).\n"
     ]
    },
    {
     "data": {
      "text/plain": [
       "array([27, 27, 27, 20, 27, 27, 27, 20, 27, 27, 27, 27, 27, 27, 27, 27, 27,\n",
       "       27, 27, 20, 11, 20, 27, 27, 27, 27, 27, 11, 27, 20, 20, 27, 27, 27,\n",
       "       11, 20, 20, 11, 20, 20, 11, 20, 27, 27, 27, 27, 27, 27, 27, 20, 27,\n",
       "       27, 27, 27, 27, 27, 27, 27, 27, 27, 27, 27, 27, 11, 27, 27, 27, 20,\n",
       "       27, 27, 20, 27, 27, 27, 27, 20, 11, 27, 27, 27, 27, 27, 27, 27, 27,\n",
       "       27, 27, 11, 20, 27, 11, 27])"
      ]
     },
     "execution_count": 15,
     "metadata": {},
     "output_type": "execute_result"
    }
   ],
   "source": [
    "# not entirely sure what these numbers are, tbh\n",
    "model.predict(X_test, batch_size=30)\n",
    "model.predict_classes(X_test, batch_size=30)"
   ]
  },
  {
   "cell_type": "code",
   "execution_count": 16,
   "metadata": {},
   "outputs": [
    {
     "data": {
      "text/plain": [
       "array([ 5,  5,  5,  5,  5,  5,  5,  5,  5, 26,  5,  5,  5,  5,  5,  5,  5,\n",
       "        5,  5,  5,  5,  5,  5,  5,  5,  5,  5,  5,  5,  5,  5,  5,  5,  5,\n",
       "        5,  5,  5,  5,  5,  5,  5,  5,  5,  5,  5,  5,  5,  5, 26,  5,  5,\n",
       "       26,  5,  5,  5,  5,  5,  5,  5,  5,  5,  5,  5,  5,  5, 26,  5,  5,\n",
       "        5,  5,  5,  5,  5,  5, 26,  5,  5,  5,  5,  5,  5,  5,  5,  5,  5,\n",
       "        5,  5,  5,  5,  5,  5,  5])"
      ]
     },
     "execution_count": 16,
     "metadata": {},
     "output_type": "execute_result"
    }
   ],
   "source": [
    "# not entirely sure what these numbers are, tbh\n",
    "model.predict(y_test, batch_size=30)\n",
    "model.predict_classes(y_test, batch_size=30)"
   ]
  },
  {
   "cell_type": "code",
   "execution_count": 17,
   "metadata": {},
   "outputs": [
    {
     "name": "stdout",
     "output_type": "stream",
     "text": [
      "[[ 0.05615771  0.06117874  0.09570783 ...  0.2263774   0.10908417\n",
      "   0.68403465]\n",
      " [ 0.05615771  0.06117874  0.09570783 ...  0.2263774   0.10908417\n",
      "   0.68403465]\n",
      " [ 0.13545     0.12944847  0.11799757 ...  0.40465415  0.11699728\n",
      "   1.1003484 ]\n",
      " ...\n",
      " [ 0.13545     0.12944847  0.11799757 ...  0.40465415  0.11699728\n",
      "   1.1003484 ]\n",
      " [-0.02869751 -0.00811679  0.05049513 ... -0.08404156  0.09504097\n",
      "   0.06670488]\n",
      " [ 0.13545     0.12944847  0.11799757 ...  0.40465415  0.11699728\n",
      "   1.1003484 ]]\n"
     ]
    }
   ],
   "source": [
    "#Predict values test objects\n",
    "X_new = X_test\n",
    "y_proba = model.predict(X_new) # do I need the .round(2)?\n",
    "print(y_proba)"
   ]
  },
  {
   "cell_type": "code",
   "execution_count": 18,
   "metadata": {},
   "outputs": [],
   "source": [
    "# now let's try a prediction based on Q40\n",
    "\n",
    "X_train2, X_test2, y_train2, y_test2 = model_selection.train_test_split(NLPdata[:,1], NLPdata[:,2], train_size=0.75,test_size=0.25, random_state=101)\n",
    "#print (\"X_train: \", X_train)\n",
    "#print (\"y_train: \", y_train)\n",
    "#print (\"X_test: \", X_test)\n",
    "#print (\"y_test: \", y_test)"
   ]
  },
  {
   "cell_type": "code",
   "execution_count": 19,
   "metadata": {},
   "outputs": [
    {
     "name": "stdout",
     "output_type": "stream",
     "text": [
      "Epoch 1/50\n",
      "28/28 [==============================] - 0s 5ms/step - loss: 0.0835 - val_loss: 0.1015\n",
      "Epoch 2/50\n",
      "28/28 [==============================] - 0s 3ms/step - loss: 0.0828 - val_loss: 0.1008\n",
      "Epoch 3/50\n",
      "28/28 [==============================] - 0s 4ms/step - loss: 0.0822 - val_loss: 0.1001\n",
      "Epoch 4/50\n",
      "28/28 [==============================] - 0s 5ms/step - loss: 0.0815 - val_loss: 0.0994\n",
      "Epoch 5/50\n",
      "28/28 [==============================] - 0s 5ms/step - loss: 0.0809 - val_loss: 0.0987\n",
      "Epoch 6/50\n",
      "28/28 [==============================] - 0s 3ms/step - loss: 0.0804 - val_loss: 0.0980\n",
      "Epoch 7/50\n",
      "28/28 [==============================] - 0s 3ms/step - loss: 0.0798 - val_loss: 0.0974\n",
      "Epoch 8/50\n",
      "28/28 [==============================] - 0s 5ms/step - loss: 0.0793 - val_loss: 0.0968\n",
      "Epoch 9/50\n",
      "28/28 [==============================] - 0s 5ms/step - loss: 0.0788 - val_loss: 0.0962\n",
      "Epoch 10/50\n",
      "28/28 [==============================] - 0s 4ms/step - loss: 0.0783 - val_loss: 0.0957\n",
      "Epoch 11/50\n",
      "28/28 [==============================] - 0s 3ms/step - loss: 0.0778 - val_loss: 0.0951\n",
      "Epoch 12/50\n",
      "28/28 [==============================] - 0s 3ms/step - loss: 0.0774 - val_loss: 0.0946\n",
      "Epoch 13/50\n",
      "28/28 [==============================] - 0s 10ms/step - loss: 0.0769 - val_loss: 0.0940\n",
      "Epoch 14/50\n",
      "28/28 [==============================] - 0s 6ms/step - loss: 0.0765 - val_loss: 0.0935\n",
      "Epoch 15/50\n",
      "28/28 [==============================] - 0s 7ms/step - loss: 0.0761 - val_loss: 0.0929\n",
      "Epoch 16/50\n",
      "28/28 [==============================] - 0s 7ms/step - loss: 0.0756 - val_loss: 0.0924\n",
      "Epoch 17/50\n",
      "28/28 [==============================] - 0s 7ms/step - loss: 0.0752 - val_loss: 0.0919\n",
      "Epoch 18/50\n",
      "28/28 [==============================] - 0s 6ms/step - loss: 0.0748 - val_loss: 0.0914\n",
      "Epoch 19/50\n",
      "28/28 [==============================] - ETA: 0s - loss: 0.074 - 0s 7ms/step - loss: 0.0745 - val_loss: 0.0909\n",
      "Epoch 20/50\n",
      "28/28 [==============================] - 0s 6ms/step - loss: 0.0741 - val_loss: 0.0905\n",
      "Epoch 21/50\n",
      "28/28 [==============================] - 0s 7ms/step - loss: 0.0737 - val_loss: 0.0900\n",
      "Epoch 22/50\n",
      "28/28 [==============================] - 0s 8ms/step - loss: 0.0733 - val_loss: 0.0895\n",
      "Epoch 23/50\n",
      "28/28 [==============================] - 0s 8ms/step - loss: 0.0730 - val_loss: 0.0890\n",
      "Epoch 24/50\n",
      "28/28 [==============================] - 0s 6ms/step - loss: 0.0726 - val_loss: 0.0886\n",
      "Epoch 25/50\n",
      "28/28 [==============================] - 0s 5ms/step - loss: 0.0723 - val_loss: 0.0882\n",
      "Epoch 26/50\n",
      "28/28 [==============================] - 0s 3ms/step - loss: 0.0719 - val_loss: 0.0877\n",
      "Epoch 27/50\n",
      "28/28 [==============================] - 0s 5ms/step - loss: 0.0716 - val_loss: 0.0873\n",
      "Epoch 28/50\n",
      "28/28 [==============================] - 0s 5ms/step - loss: 0.0713 - val_loss: 0.0869\n",
      "Epoch 29/50\n",
      "28/28 [==============================] - 0s 4ms/step - loss: 0.0709 - val_loss: 0.0865\n",
      "Epoch 30/50\n",
      "28/28 [==============================] - 0s 8ms/step - loss: 0.0706 - val_loss: 0.0860\n",
      "Epoch 31/50\n",
      "28/28 [==============================] - 0s 5ms/step - loss: 0.0703 - val_loss: 0.0856\n",
      "Epoch 32/50\n",
      "28/28 [==============================] - 0s 8ms/step - loss: 0.0700 - val_loss: 0.0853\n",
      "Epoch 33/50\n",
      "28/28 [==============================] - 0s 5ms/step - loss: 0.0697 - val_loss: 0.0848\n",
      "Epoch 34/50\n",
      "28/28 [==============================] - 0s 6ms/step - loss: 0.0694 - val_loss: 0.0845\n",
      "Epoch 35/50\n",
      "28/28 [==============================] - 0s 3ms/step - loss: 0.0692 - val_loss: 0.0841\n",
      "Epoch 36/50\n",
      "28/28 [==============================] - 0s 6ms/step - loss: 0.0689 - val_loss: 0.0837\n",
      "Epoch 37/50\n",
      "28/28 [==============================] - 0s 4ms/step - loss: 0.0686 - val_loss: 0.0833\n",
      "Epoch 38/50\n",
      "28/28 [==============================] - 0s 4ms/step - loss: 0.0683 - val_loss: 0.0830\n",
      "Epoch 39/50\n",
      "28/28 [==============================] - 0s 4ms/step - loss: 0.0681 - val_loss: 0.0826\n",
      "Epoch 40/50\n",
      "28/28 [==============================] - 0s 4ms/step - loss: 0.0678 - val_loss: 0.0823\n",
      "Epoch 41/50\n",
      "28/28 [==============================] - 0s 4ms/step - loss: 0.0675 - val_loss: 0.0819\n",
      "Epoch 42/50\n",
      "28/28 [==============================] - 0s 4ms/step - loss: 0.0673 - val_loss: 0.0815\n",
      "Epoch 43/50\n",
      "28/28 [==============================] - 0s 5ms/step - loss: 0.0670 - val_loss: 0.0812\n",
      "Epoch 44/50\n",
      "28/28 [==============================] - 0s 4ms/step - loss: 0.0667 - val_loss: 0.0808\n",
      "Epoch 45/50\n",
      "28/28 [==============================] - 0s 4ms/step - loss: 0.0665 - val_loss: 0.0805\n",
      "Epoch 46/50\n",
      "28/28 [==============================] - 0s 3ms/step - loss: 0.0662 - val_loss: 0.0802\n",
      "Epoch 47/50\n",
      "28/28 [==============================] - 0s 4ms/step - loss: 0.0660 - val_loss: 0.0798\n",
      "Epoch 48/50\n",
      "28/28 [==============================] - 0s 4ms/step - loss: 0.0658 - val_loss: 0.0795\n",
      "Epoch 49/50\n",
      "28/28 [==============================] - 0s 3ms/step - loss: 0.0655 - val_loss: 0.0792\n",
      "Epoch 50/50\n",
      "28/28 [==============================] - 0s 3ms/step - loss: 0.0653 - val_loss: 0.0789\n"
     ]
    },
    {
     "data": {
      "text/plain": [
       "<tensorflow.python.keras.callbacks.History at 0x1461e6490>"
      ]
     },
     "execution_count": 19,
     "metadata": {},
     "output_type": "execute_result"
    }
   ],
   "source": [
    "model.fit(X_train2, y_train2, batch_size=10, epochs=50, verbose=1, validation_data=(X_test2, y_test))"
   ]
  },
  {
   "cell_type": "code",
   "execution_count": 20,
   "metadata": {},
   "outputs": [
    {
     "name": "stdout",
     "output_type": "stream",
     "text": [
      "10/10 [==============================] - 0s 3ms/step - loss: 0.0789\n"
     ]
    },
    {
     "data": {
      "text/plain": [
       "0.07891674339771271"
      ]
     },
     "execution_count": 20,
     "metadata": {},
     "output_type": "execute_result"
    }
   ],
   "source": [
    "model.evaluate(X_test2, y_test2, batch_size=10)"
   ]
  },
  {
   "cell_type": "code",
   "execution_count": 21,
   "metadata": {},
   "outputs": [
    {
     "data": {
      "text/plain": [
       "array([ 7, 22,  7, 27,  7, 22,  7, 22, 27,  7, 20, 22, 22,  7,  7, 22, 22,\n",
       "       20, 20, 22, 27, 27, 20,  7, 27, 27, 20, 27, 22,  7, 22, 27,  7,  7,\n",
       "        7, 20,  7,  7, 22, 27, 22,  7, 22, 22,  7, 27, 22,  7, 27,  7,  7,\n",
       "       20, 20, 22, 22, 20, 27, 27, 27, 22,  7, 22, 27, 27,  7, 22, 22,  7,\n",
       "       20, 22, 27, 22, 22, 27, 22,  7, 20, 22, 22, 27,  7, 27, 22, 22, 22,\n",
       "        7,  7, 20,  7, 22, 27, 27])"
      ]
     },
     "execution_count": 21,
     "metadata": {},
     "output_type": "execute_result"
    }
   ],
   "source": [
    "model.predict(X_test2, batch_size=10)\n",
    "model.predict_classes(X_test2, batch_size=10)"
   ]
  },
  {
   "cell_type": "code",
   "execution_count": 22,
   "metadata": {},
   "outputs": [
    {
     "data": {
      "text/plain": [
       "array([22, 22, 22, 22, 22, 22, 22, 22, 22, 22, 22, 22, 22, 22,  5, 22, 22,\n",
       "       22, 22, 22, 22, 22, 22,  5, 22, 22, 22, 22, 22, 22, 22, 22, 22, 22,\n",
       "       22, 22, 22, 22, 22, 22, 22, 22, 22, 22, 22,  5, 22, 22,  5, 22, 22,\n",
       "       22, 22, 22, 22, 22, 22, 22, 22, 22, 22, 22, 22, 22, 22, 22, 22, 22,\n",
       "       22, 22, 22,  5, 22,  5, 22, 22, 22, 22, 22, 22, 22, 22, 22, 22, 22,\n",
       "       22, 22, 22, 22, 22, 22, 22])"
      ]
     },
     "execution_count": 22,
     "metadata": {},
     "output_type": "execute_result"
    }
   ],
   "source": [
    "model.predict(y_test2, batch_size=10)\n",
    "model.predict_classes(y_test2, batch_size=10)"
   ]
  },
  {
   "cell_type": "code",
   "execution_count": 23,
   "metadata": {},
   "outputs": [
    {
     "name": "stdout",
     "output_type": "stream",
     "text": [
      "[[ 0.01476526  0.01657947  0.05122546 ... -0.02612395  0.06561409\n",
      "   0.04324614]\n",
      " [ 0.03908056  0.05909468 -0.00411105 ... -0.14908013  0.0484787\n",
      "  -0.15349141]\n",
      " [ 0.01476526  0.01657947  0.05122546 ... -0.02612395  0.06561409\n",
      "   0.04324614]\n",
      " ...\n",
      " [ 0.03908056  0.05909468 -0.00411105 ... -0.14908013  0.0484787\n",
      "  -0.15349141]\n",
      " [ 0.29161394  0.24686101  0.15360762 ...  0.6942448   0.12789868\n",
      "   1.7589501 ]\n",
      " [ 0.20094064  0.17869616  0.13433036 ...  0.5060606   0.12056824\n",
      "   1.318679  ]]\n"
     ]
    }
   ],
   "source": [
    "#Predict values test objects\n",
    "X_new = X_test2\n",
    "y_proba = model.predict(X_new) # do I need the .round(2)?\n",
    "print(y_proba)"
   ]
  },
  {
   "cell_type": "code",
   "execution_count": 27,
   "metadata": {},
   "outputs": [
    {
     "name": "stderr",
     "output_type": "stream",
     "text": [
      "No handles with labels found to put in legend.\n"
     ]
    },
    {
     "data": {
      "text/plain": [
       "<matplotlib.legend.Legend at 0x1466fec70>"
      ]
     },
     "execution_count": 27,
     "metadata": {},
     "output_type": "execute_result"
    },
    {
     "data": {
      "image/png": "[encoded data removed]",
      "text/plain": [
       "<Figure size 1152x720 with 1 Axes>"
      ]
     },
     "metadata": {
      "needs_background": "light"
     },
     "output_type": "display_data"
    }
   ],
   "source": [
    "x = np.linspace(1,92,92)\n",
    "y1 = y_test2\n",
    "y2 = y_proba\n",
    "plt.figure(figsize=(16,10))\n",
    "#plt.plot(x,y1, 'x')\n",
    "plt.ylabel('Sentiment Analysis Scores')\n",
    "plt.plot(x,y2, '*', c='g')\n",
    "#plt.title(\"Sentiment Analysis Scores\")\n",
    "plt.legend()"
   ]
  },
  {
   "cell_type": "code",
   "execution_count": 28,
   "metadata": {},
   "outputs": [
    {
     "name": "stderr",
     "output_type": "stream",
     "text": [
      "No handles with labels found to put in legend.\n"
     ]
    },
    {
     "data": {
      "text/plain": [
       "<matplotlib.legend.Legend at 0x1467948b0>"
      ]
     },
     "execution_count": 28,
     "metadata": {},
     "output_type": "execute_result"
    },
    {
     "data": {
      "image/png": "[encoded data removed]",
      "text/plain": [
       "<Figure size 1152x720 with 1 Axes>"
      ]
     },
     "metadata": {
      "needs_background": "light"
     },
     "output_type": "display_data"
    }
   ],
   "source": [
    "x = np.linspace(1,92,92)\n",
    "y1 = y_test2\n",
    "y2 = y_proba\n",
    "plt.figure(figsize=(16,10))\n",
    "plt.ylabel('Sentiment Analysis Scores')\n",
    "plt.plot(x, y1, 'x')\n",
    "plt.legend()"
   ]
  },
  {
   "cell_type": "code",
   "execution_count": null,
   "metadata": {},
   "outputs": [],
   "source": []
  }
 ],
 "metadata": {
  "kernelspec": {
   "display_name": "Python 3",
   "language": "python",
   "name": "python3"
  },
  "language_info": {
   "codemirror_mode": {
    "name": "ipython",
    "version": 3
   },
   "file_extension": ".py",
   "mimetype": "text/x-python",
   "name": "python",
   "nbconvert_exporter": "python",
   "pygments_lexer": "ipython3",
   "version": "3.8.0"
  }
 },
 "nbformat": 4,
 "nbformat_minor": 4
}
